{
 "cells": [
  {
   "cell_type": "markdown",
   "id": "dafecd03",
   "metadata": {},
   "source": [
    "# Description\n",
    "\n",
    "**Author:** Anna Luisa Hemshorn de Sánchez\n",
    "\n",
    "**Affiliation:** (1) Department of Earth Sciences, VU Amsterdam, (2) Institute of Environmental Studies (IVM), VU Amsterdam, (3) Deltares\n",
    "\n",
    "**Contact:** a.l.hemshorndesanchez@vu.nl\n",
    "\n",
    "**Version:** V1\n",
    "\n",
    "**Date:** Oct 20, 2025\n",
    "\n",
    "**Description:** Data used in this notebook is obtained from: do Nascimento, T.V.M., Rudlang, J., Höge, M. et al. EStreams: An integrated dataset and catalogue of streamflow, hydro-climatic and landscape variables for Europe. _Sci Data_ 11, 879 (2024). https://doi.org/10.1038/s41597-024-03706-1\n",
    "\n",
    "In this version of the code we filter the catchments contained in the EStreams dataset according to different selection criteria.\n",
    "\n",
    "\n",
    "# Import packages"
   ]
  },
  {
   "cell_type": "code",
   "execution_count": 1,
   "id": "4bbb0351",
   "metadata": {},
   "outputs": [],
   "source": [
    "import pandas as pd\n",
    "import numpy as np\n",
    "import geopandas as gpd\n",
    "import matplotlib.pyplot as plt\n",
    "import matplotlib.dates as mdates\n",
    "import matplotlib.colors as mcolors\n",
    "from matplotlib.transforms import Bbox\n",
    "import cartopy.crs as ccrs\n",
    "import matplotlib.ticker as ticker\n",
    "from matplotlib.gridspec import GridSpec\n",
    "from cmcrameri import cm \n",
    "from pathlib import Path"
   ]
  },
  {
   "cell_type": "markdown",
   "id": "77c626af",
   "metadata": {},
   "source": [
    "# Define file paths"
   ]
  },
  {
   "cell_type": "code",
   "execution_count": 2,
   "id": "816b3111",
   "metadata": {},
   "outputs": [],
   "source": [
    "# Get main directories\n",
    "nb_dir = Path.cwd()\n",
    "parent_dir = nb_dir.parent.parent.parent.parent\n",
    "fp = parent_dir / \"Data/Europe/estreams/EStreams_v1.3/\"\n",
    "fp_gh = parent_dir / \"Code/GitHub/streamflow_sensitivity_europe/\"\n",
    "\n",
    "# Input directories and filepaths\n",
    "fp_gauges = fp / \"streamflow_gauges/estreams_gauging_stations.csv\"\n",
    "fp_met = fp / \"meteorology/\" # contains: estreams_meteorology_{basin_id}.csv\n",
    "fp_hydsig = fp / \"hydroclimatic_signatures/estreams_hydrometeo_signatures.csv\"\n",
    "fp_shp_gau = fp / \"shapefiles/estreams_gauging_stations.shp\"\n",
    "fp_shp_cat = fp / \"shapefiles/estreams_catchments.shp\"\n",
    "fp_attr_stat = fp / \"attributes/static_attributes/\" # contains: estreams_{attribute_type}_attributes.csv\n",
    "fp_attr_temp = fp / \"attributes/temporal_attributes/\" # contains: estreams_{attribute_type}_[time_scale].csv\n",
    "fp_qidx_mon = fp / \"streamflow_indices/monthly/\" # contains: monthly_streamflow_{index}.csv\n",
    "\n",
    "# Output directories\n",
    "fp_data_processed = fp_gh / \"data/processed/\" \n",
    "fp_figures = fp_gh / \"figures/\" "
   ]
  },
  {
   "cell_type": "markdown",
   "id": "902a862a",
   "metadata": {},
   "source": [
    "# Filter the data"
   ]
  },
  {
   "cell_type": "code",
   "execution_count": 3,
   "id": "2a065adf",
   "metadata": {},
   "outputs": [
    {
     "name": "stdout",
     "output_type": "stream",
     "text": [
      "Amount of gauges:  17130 \n",
      "\n"
     ]
    }
   ],
   "source": [
    "gauges = pd.read_csv(fp_gauges)\n",
    "gauges_no = len(gauges.index)\n",
    "print('Amount of gauges: ', gauges_no,'\\n')\n",
    "\n",
    "def minmaxmean(param, df):\n",
    "    \"\"\"\"\"\n",
    "    Calculate maximum, minimum and mean value of a given parameter in a DataFrame\n",
    "    \n",
    "    Parameters:\n",
    "    - param (str): Column name of the parameter\n",
    "    - df (pandas.DataFrame): Dataframe containing the column with the parameter of interes\n",
    "    \n",
    "    Returns: prints the maximum, minimum and mean values of the parameter\n",
    "    \"\"\"\"\"\n",
    "    varmax = df[param].max()\n",
    "    varmin = df[param].min()\n",
    "    varmean = df[param].mean()\n",
    "    print('The range of ', param,' is :',round(varmax,2), '(max) and ', round(varmin,2), '(min) and the mean is: ', round(varmean,2))\n",
    "    return\n",
    "    \n",
    "def gauge_filter(gauges_in, param, varmin=None, varmax=None, vareq=None): \n",
    "\n",
    "    \"\"\"\"\"\n",
    "    Filter gauges according to the variable limits given for a chosen parameter.\n",
    "    \n",
    "    Parameters:\n",
    "    - gauges_in (pandas.DataFrame): DataFrame of the gauges with columns of different parameters that are used for filtering\n",
    "    - param (str): Column name of the parameter used for filtering\n",
    "    - varmin (float): Optional limit value to only consider gauges with parameter values larger than varmin\n",
    "    - varmax (float): Optional limit value to only consider gauges with parameter values smaller than varmax\n",
    "    - vareq (float): Optional value to only consider gauges with parameter values equal to vareq\n",
    "    \n",
    "    Returns: \n",
    "    - gauges_out (pandas.DataFrame)\n",
    "    - gauge_id (list)\n",
    "    - basin_id (list)\n",
    "    \"\"\"\"\"\n",
    "    \n",
    "    gauges_out = gauges_in\n",
    "    \n",
    "    if vareq != None:\n",
    "        gauges_out = gauges_in[gauges_in[param].isin(vareq)]\n",
    "        print('Amount of catchments with ', param, '==', vareq, ':',len(gauges_out))\n",
    "        \n",
    "    if varmin != None:\n",
    "        gauges_out = gauges_in[gauges_in[param] > varmin]\n",
    "        print('Amount of catchments with ', param, '>', varmin, ':',len(gauges_out))\n",
    "        \n",
    "    if varmax != None:\n",
    "        gauges_out = gauges_in[gauges_in[param] < varmax]\n",
    "        print('Amount of catchments with ', param, '<', varmax, ':',len(gauges_out))\n",
    "\n",
    "        \n",
    "    # Get indices of filtered rows and use them to apply filter\n",
    "    gauge_id = gauges_out['gauge_id'] \n",
    "    basin_id = gauges_out['basin_id'] \n",
    "    \n",
    "    return gauges_out, gauge_id, basin_id\n",
    "\n",
    "def basin_filter(basins_in, param, varmin=None, varmax=None, vareq=None): \n",
    "    \"\"\"\"\"\n",
    "    Filter basins according to the variable limits given for a chosen parameter.\n",
    "    \n",
    "    Parameters:\n",
    "    - basins_in (DataFrame): Dataframe of the basins with columns of different parameters that are used for filtering\n",
    "    - param (str): Column name of the parameter used for filtering\n",
    "    - varmin (float): Optional limit value to only consider gauges with parameter values larger than varmin\n",
    "    - varmax (float): Optional limit value to only consider gauges with parameter values smaller than varmax\n",
    "    - vareq (float): Optional value to only consider gauges with parameter values equal to vareq\n",
    "    \n",
    "    Returns: \n",
    "    - basins_out (DataFrame)\n",
    "    - basin_id (list)\n",
    "    \"\"\"\"\"\n",
    "\n",
    "    basins_out = basins_in\n",
    "    \n",
    "    if vareq != None:\n",
    "        basins_out = basins_in[basins_in[param].isin(vareq)]\n",
    "        print('Amount of catchments with ', param, '==', vareq, ':',len(basins_out))\n",
    "        \n",
    "    if varmin != None:\n",
    "        basins_out = basins_in[basins_in[param] > varmin]\n",
    "        print('Amount of catchments with ', param, '>', varmin, ':',len(basins_out))\n",
    "        \n",
    "    if varmax != None:\n",
    "        basins_out = basins_in[basins_in[param] < varmax]\n",
    "        print('Amount of catchments with ', param, '<', varmax, ':',len(basins_out))\n",
    "    \n",
    "        \n",
    "    # Get indices of filtered rows and use them to apply filter to cmls_catch_no\n",
    "    #gauge_id = basins_out['gauge_id'] #or name of catchment ID\n",
    "    basin_id = basins_out['basin_id'] \n",
    "    \n",
    "    return basins_out, basin_id #gauge_id"
   ]
  },
  {
   "cell_type": "markdown",
   "id": "99a73c1d",
   "metadata": {},
   "source": [
    "## Filter by gauge characteristics"
   ]
  },
  {
   "cell_type": "markdown",
   "id": "df1bb07d",
   "metadata": {},
   "source": [
    "The 'area_flag' contains the following flags:\n",
    "\n",
    "* 0: |Arel| below 10%.\n",
    "* 1: |Arel| below 10% after moving the gauge location.\n",
    "* 2: |Arel| above 10% or no reported area available, but delineation visually compared to other delineations from down and upstream gauges labeled \"0\", Google Maps satellite imagery and to the EU-Copernicus River network.\n",
    "* 3: |Arel| above 10% or no reported area available, but delineation visually compared to Google Maps satellite imagery and to the EU-Copernicus River network.\n",
    "* 4: |Arel| above 30% or no reported area available, but delineation compared to EU- Copernicus River network.\n",
    "* 5: |Arel| above 10% or no reported area available, and delineation manually adjusted using EU-Copernicus in addition to MERIT-Hydro.\n",
    "* 6: Similar to “5”, but still with |Arel| above 30% or no reported area available.\n",
    "* 888: |Arel| above 10% or no reported area available, but location in areas under high human influence, such as canalization and water exports and in karstic regions.\n",
    "* 999: |Arel| above 10% or no reported area available, and delineation eventually not accepted after visual inspection."
   ]
  },
  {
   "cell_type": "code",
   "execution_count": 4,
   "id": "bcd5116f",
   "metadata": {},
   "outputs": [
    {
     "name": "stdout",
     "output_type": "stream",
     "text": [
      "Amount of catchments with  area_flag == [0, 1, 2, 3, 4, 5, 6] : 14793\n"
     ]
    }
   ],
   "source": [
    "# Filter by basin area quality flag\n",
    "gau, gau_gid, gau_bid = gauge_filter(gauges_in=gauges, param='area_flag', varmin=None, varmax=None, vareq=[0,1,2,3,4,5,6]) #,2,3"
   ]
  },
  {
   "cell_type": "markdown",
   "id": "bbc92179",
   "metadata": {},
   "source": [
    "The 'gauge_flag' contains the following flags:\n",
    "\n",
    "* A: More than 95% of the gauge records flags are “reliable”\n",
    "* B: More than 95% of the gauge records flags are “reliable” or “no-flag”\n",
    "* C: Less than 10% of the gauge records flags are “missing”\n",
    "* D: Less than 20% of the gauge records flags are “missing”\n",
    "* E: More than 20% of the gauge records flags are “missing”"
   ]
  },
  {
   "cell_type": "code",
   "execution_count": 5,
   "id": "71758687",
   "metadata": {},
   "outputs": [],
   "source": [
    "# Filter by gauge quality flag: not using this filter anymore as we use the rule of 10 years (=120 months) of non-nan values of the monthyl timeseries.\n",
    "#gau, gau_gid, gau_bid = gauge_filter(gauges_in=gau, param='gauge_flag', varmin=None, varmax=None, vareq=['A','B','C'])"
   ]
  },
  {
   "cell_type": "code",
   "execution_count": 6,
   "id": "97e5adc0",
   "metadata": {},
   "outputs": [
    {
     "name": "stdout",
     "output_type": "stream",
     "text": [
      "The range of  num_days_suspect  is : 33052.0 (max) and  0.0 (min) and the mean is:  246.49\n",
      "Amount of catchments with  num_days_suspect < 61 : 11478\n",
      "The range of  num_days_gaps  is : 32565.0 (max) and  0.0 (min) and the mean is:  1072.23\n"
     ]
    }
   ],
   "source": [
    "# Filter by record length: not using this filter anymore as we use the rule of 10 years (=120 months) of non-nan values of the monthyl timeseries.\n",
    "#minmaxmean('num_years', gau)\n",
    "#gau, gau_gid, gau_bid = gauge_filter(gauges_in=gau, param='num_years',varmin=10, varmax=None, vareq=None)\n",
    "\n",
    "# Filter by area\n",
    "#minmaxmean('area_estreams', gau)\n",
    "#gau, gau_gid, gau_bid = gauge_filter(gauges_in=gau, param='area_estreams', varmin=None, varmax=50000, vareq=None) #based on histogram\n",
    "\n",
    "# Filter by number of suspicious days\n",
    "minmaxmean('num_days_suspect', gau)\n",
    "gau, gau_gid, gau_bid = gauge_filter(gauges_in=gau, param='num_days_suspect', varmin=None, varmax=61, vareq=None) \n",
    "\n",
    "# Filter by number of gap days\n",
    "minmaxmean('num_days_gaps', gau)\n",
    "gau, gau_gid, gau_bid = gauge_filter(gauges_in=gau, param='num_days_gaps', varmin=None, varmax=None, vareq=None) #based on histogram"
   ]
  },
  {
   "cell_type": "markdown",
   "id": "5dbef8ef",
   "metadata": {},
   "source": [
    "## Filter based on meteorology ('estreams_meteorology_density.csv)"
   ]
  },
  {
   "cell_type": "code",
   "execution_count": 7,
   "id": "a7465578",
   "metadata": {},
   "outputs": [
    {
     "name": "stdout",
     "output_type": "stream",
     "text": [
      "The range of  stations_dens_p_mean  is : 333.33 (max) and  0.0 (min) and the mean is:  0.09\n",
      "The range of  stations_dens_p_mean  is : 5.0 (max) and  0.0 (min) and the mean is:  0.06\n"
     ]
    }
   ],
   "source": [
    "met = pd.read_csv(fp_attr_stat/\"estreams_meteorology_density.csv\")\n",
    "minmaxmean('stations_dens_p_mean', met)\n",
    "minmaxmean('stations_dens_p_mean', met[met['basin_id'].isin(gau_bid)])"
   ]
  },
  {
   "cell_type": "code",
   "execution_count": 8,
   "id": "d8ce74a3",
   "metadata": {},
   "outputs": [],
   "source": [
    "# Filter by E-OBS station density\n",
    "met, met_bid = basin_filter(basins_in = met[met['basin_id'].isin(gau_bid)],param='stations_dens_p_mean',\n",
    "                                    varmin=None, # 0.01 corresponds to 1 per 100km2 # To include Dutch catchments it needs: 0.005 #= 1 per 200km2 \n",
    "                                    varmax=None,\n",
    "                                    vareq=None)"
   ]
  },
  {
   "cell_type": "markdown",
   "id": "59b98f5f",
   "metadata": {},
   "source": [
    "## Filter based on hydrological signatures (estreams_hydrometeo_signatures.csv)"
   ]
  },
  {
   "cell_type": "code",
   "execution_count": 9,
   "id": "db607bad",
   "metadata": {},
   "outputs": [
    {
     "name": "stdout",
     "output_type": "stream",
     "text": [
      "The range of  frac_snow  is : 0.59 (max) and  0.0 (min) and the mean is:  0.08\n"
     ]
    }
   ],
   "source": [
    "hydsig = pd.read_csv(fp_hydsig)\n",
    "hydsig_no = len(hydsig.index)\n",
    "minmaxmean('frac_snow', hydsig)"
   ]
  },
  {
   "cell_type": "code",
   "execution_count": 10,
   "id": "661472c9",
   "metadata": {},
   "outputs": [
    {
     "name": "stdout",
     "output_type": "stream",
     "text": [
      "The range of  q_runoff_ratio  is : 6.215506841235374e+30 (max) and  0.0 (min) and the mean is:  4.598628914793855e+26\n",
      "The range of  q_runoff_ratio  is : 6.215506841235374e+30 (max) and  0.0 (min) and the mean is:  6.042098611096893e+26\n",
      "Amount of catchments with  q_runoff_ratio < 1.5 : 10022\n",
      "The range of  p_seasonality  is : 0.66 (max) and  -0.99 (min) and the mean is:  0.04\n",
      "The range of  p_seasonality  is : 0.66 (max) and  -0.99 (min) and the mean is:  0.09\n"
     ]
    }
   ],
   "source": [
    "# Filter by snow fraction\n",
    "hys, hys_bid = basin_filter(basins_in = hydsig[hydsig['basin_id'].isin(met_bid)],\n",
    "                                    param='frac_snow', \n",
    "                                    varmin=None, \n",
    "                                    varmax=None, #0.15, \n",
    "                                    vareq=None)\n",
    "\n",
    "# Filter by runoff ratio\n",
    "minmaxmean('q_runoff_ratio', hydsig)\n",
    "minmaxmean('q_runoff_ratio', hys)\n",
    "hys, hys_bid = basin_filter(basins_in = hys[hys['basin_id'].isin(hys_bid)],\n",
    "                                    param='q_runoff_ratio', \n",
    "                                    varmin=None, \n",
    "                                    varmax=1.5, #1.3\n",
    "                                    vareq=None)\n",
    "\n",
    "# Filter by seasonality\n",
    "minmaxmean('p_seasonality', hydsig)\n",
    "minmaxmean('p_seasonality', hys)\n",
    "hys, hys_bid = basin_filter(basins_in = hys[hys['basin_id'].isin(hys_bid)],\n",
    "                                    param='p_seasonality', \n",
    "                                    varmin=None, \n",
    "                                    varmax=None,\n",
    "                                    vareq=None)"
   ]
  },
  {
   "cell_type": "markdown",
   "id": "0d3ca66e",
   "metadata": {},
   "source": [
    "## Filter by soil attributes (estreams_soil_attributes.csv)"
   ]
  },
  {
   "cell_type": "code",
   "execution_count": 11,
   "id": "061d89f5",
   "metadata": {},
   "outputs": [
    {
     "name": "stdout",
     "output_type": "stream",
     "text": [
      "The range of  soil_fra_sand_mean  is : 90.0 (max) and  0.0 (min) and the mean is:  48.51\n"
     ]
    }
   ],
   "source": [
    "soil = pd.read_csv(fp_attr_stat/\"estreams_soil_attributes.csv\")\n",
    "minmaxmean('soil_fra_sand_mean', soil) # soil_fra_sand_mean, soil_fra_sand_max, soil_fra_sand_min"
   ]
  },
  {
   "cell_type": "code",
   "execution_count": 12,
   "id": "bbfc2f89",
   "metadata": {},
   "outputs": [],
   "source": [
    "soil, soil_bid = basin_filter(basins_in = soil[soil['basin_id'].isin(hys_bid)],\n",
    "                                    param='soil_fra_sand_mean', \n",
    "                                    varmin=None, \n",
    "                                    varmax=None, \n",
    "                                    vareq=None)"
   ]
  },
  {
   "cell_type": "markdown",
   "id": "70c65712",
   "metadata": {},
   "source": [
    "## Filter based on topography (estreams_topography_attributes.csv)"
   ]
  },
  {
   "cell_type": "code",
   "execution_count": 13,
   "id": "55f5e9b2",
   "metadata": {},
   "outputs": [
    {
     "name": "stdout",
     "output_type": "stream",
     "text": [
      "The range of  flat_area_fra  is : 100.0 (max) and  0.0 (min) and the mean is:  46.19\n"
     ]
    }
   ],
   "source": [
    "topo = pd.read_csv(fp_attr_stat/\"estreams_topography_attributes.csv\")\n",
    "minmaxmean('flat_area_fra', topo)"
   ]
  },
  {
   "cell_type": "code",
   "execution_count": 14,
   "id": "06aa1381",
   "metadata": {},
   "outputs": [
    {
     "name": "stdout",
     "output_type": "stream",
     "text": [
      "The range of  slp_dg_mean  is : 35.58 (max) and  0.17 (min) and the mean is:  7.27\n",
      "The range of  flat_area_fra  is : 100.0 (max) and  0.0 (min) and the mean is:  44.84\n"
     ]
    }
   ],
   "source": [
    "# Filter by slope\n",
    "minmaxmean('slp_dg_mean', topo) # soil_fra_sand_mean, soil_fra_sand_max, soil_fra_sand_min\n",
    "topo, topo_bid = basin_filter(basins_in = topo[topo['basin_id'].isin(soil_bid)],\n",
    "                                    param='slp_dg_mean', \n",
    "                                    varmin=None, \n",
    "                                    varmax=None, \n",
    "                                    vareq=None)\n",
    "\n",
    "# Filter by flat area fraction\n",
    "minmaxmean('flat_area_fra', topo)\n",
    "topo, topo_bid = basin_filter(basins_in = topo[topo['basin_id'].isin(topo_bid)],\n",
    "                                    param='flat_area_fra', \n",
    "                                    varmin=None, \n",
    "                                    varmax=None, \n",
    "                                    vareq=None)"
   ]
  },
  {
   "cell_type": "markdown",
   "id": "acd6483b",
   "metadata": {},
   "source": [
    "## Filter based on quality flags based on visual inspection of the hydrograph"
   ]
  },
  {
   "cell_type": "code",
   "execution_count": 15,
   "id": "b4571395",
   "metadata": {},
   "outputs": [
    {
     "name": "stdout",
     "output_type": "stream",
     "text": [
      "Amount of catchments that are flagged due to the hydrograph:  266\n",
      "The amount of catchments after filtering for hydrograph flag:  9906\n"
     ]
    }
   ],
   "source": [
    "# Filter by our hydrograph flags\n",
    "hflag = pd.read_csv(fp_data_processed/\"01_selection/station_list_suspect_VU.csv\")[['Station_ID','M_grouped']]\n",
    "#print('Unique hydrograph quality flags: ', hflag['M_grouped'].unique())\n",
    "\n",
    "hflag_out = ['seasonal_gaps',\n",
    "             #'dam_shift',\n",
    "             'long_0_values',\n",
    "             #'unknown_shift', \n",
    "             #'single_outlier',\n",
    "             'spiky_pattern',\n",
    "             'repeating_value',\n",
    "             'binary_pattern', \n",
    "             'strange_pattern',\n",
    "             'other',\n",
    "             'flat_periods',\n",
    "             'long_linear_interpolation',\n",
    "             'blocky_pattern',\n",
    "             'noisy_pattern',\n",
    "             'patchy_pattern',\n",
    "             'frequent_gaps',\n",
    "             'magnitude_shift',\n",
    "             'scattered_periods'\n",
    "            ]\n",
    "hflag = hflag[hflag['M_grouped'].isin(hflag_out)]\n",
    "print('Amount of catchments that are flagged due to the hydrograph: ', len(hflag))\n",
    "\n",
    "# Create a selection of strings not appearing in the 'M_g' column of filtered_df\n",
    "hflag_bid = topo_bid[~topo_bid.isin(hflag['Station_ID'])]\n",
    "print('The amount of catchments after filtering for hydrograph flag: ', len(hflag_bid))"
   ]
  },
  {
   "cell_type": "markdown",
   "id": "b2eb838d",
   "metadata": {},
   "source": [
    "# Filter by total length of non NaN data"
   ]
  },
  {
   "cell_type": "code",
   "execution_count": 16,
   "id": "918c00eb",
   "metadata": {},
   "outputs": [
    {
     "name": "stdout",
     "output_type": "stream",
     "text": [
      "Locations with at least 10 years of non-NaN values: 8307\n"
     ]
    }
   ],
   "source": [
    "Q_mon = pd.read_csv(fp_qidx_mon/\"monthly_streamflow_mean.csv\", index_col=0, parse_dates=[0])\n",
    "\n",
    "# Filter rows starting from 1950-01-01\n",
    "Q_mon = Q_mon[Q_mon.index >= \"1950-01-01\"]\n",
    "\n",
    "# Select columns that are part of `hflag_bid`\n",
    "Q_mon = Q_mon[Q_mon.columns[Q_mon.columns.isin(hflag_bid)]]\n",
    "\n",
    "# Identify locations with at least 10 years (120 months) of non-NaN values\n",
    "req_months = 10 * 12  # 10 years of monthly data\n",
    "basin_id_len = Q_mon.notna().sum(axis=0) >= req_months\n",
    "\n",
    "# Get the list of basin_id locations meeting the criteria\n",
    "basin_id_len_series = pd.Series(basin_id_len[basin_id_len].index, name='basin_id') # basin_id_len[basin_id_len].index.tolist()\n",
    "\n",
    "# Output the result\n",
    "print(f\"Locations with at least 10 years of non-NaN values: {len(basin_id_len_series)}\")"
   ]
  },
  {
   "cell_type": "code",
   "execution_count": 17,
   "id": "13b7676b",
   "metadata": {},
   "outputs": [],
   "source": [
    "basin_id_sel = basin_id_len_series\n",
    "basin_id_sel.to_csv(fp_data_processed/\"01_selection/basin_id_sel.csv\")"
   ]
  },
  {
   "cell_type": "markdown",
   "id": "26e4fca0",
   "metadata": {},
   "source": [
    "# Selected catchments as shapefiles"
   ]
  },
  {
   "cell_type": "code",
   "execution_count": 18,
   "id": "9564d057",
   "metadata": {},
   "outputs": [
    {
     "name": "stdout",
     "output_type": "stream",
     "text": [
      "CPU times: user 26 s, sys: 288 ms, total: 26.3 s\n",
      "Wall time: 26.5 s\n"
     ]
    }
   ],
   "source": [
    "%%time\n",
    "# Read the shapefile \n",
    "shp_gau = gpd.read_file(fp_shp_gau)  \n",
    "shp_gau.set_crs('EPSG:4326', inplace=True)\n",
    "shp_cat = gpd.read_file(fp_shp_cat) \n",
    "\n",
    "# Filter rows based on 'selection' list and the 'column_for_selection' column\n",
    "shp_gau_sel = shp_gau[shp_gau['basin_id'].isin(basin_id_sel)].sort_values(by='area_estre', ascending=False)\n",
    "shp_cat_sel = shp_cat[shp_cat['basin_id'].isin(basin_id_sel)].sort_values(by='area_estre', ascending=False)\n",
    "\n",
    "# Set basin_id as the index\n",
    "shp_gau_sel = shp_gau_sel.set_index('basin_id')\n",
    "shp_cat_sel = shp_cat_sel.set_index('basin_id')\n",
    "\n",
    "# Load the Europe boundaries (Natural Earth dataset)\n",
    "europe = gpd.read_file(parent_dir/\"Data/Admin/ne_50m_admin_0_countries/ne_50m_admin_0_countries.shp\")\n",
    "europe = europe[(europe['CONTINENT'].str.contains('Europe', case=False, na=False)) |\n",
    "                ((europe.geometry.bounds['minx'] >= -10) &     \n",
    "                 (europe.geometry.bounds['maxx'] <= 50) &\n",
    "                 (europe.geometry.bounds['miny'] >= 30) & \n",
    "                 (europe.geometry.bounds['maxy'] <= 70))] #europe = europe.cx[-10:50, 30:70] #europe = europe[europe['CONTINENT'] == 'Europe']"
   ]
  },
  {
   "cell_type": "code",
   "execution_count": 19,
   "id": "933f2569",
   "metadata": {},
   "outputs": [
    {
     "data": {
      "text/html": [
       "<div>\n",
       "<style scoped>\n",
       "    .dataframe tbody tr th:only-of-type {\n",
       "        vertical-align: middle;\n",
       "    }\n",
       "\n",
       "    .dataframe tbody tr th {\n",
       "        vertical-align: top;\n",
       "    }\n",
       "\n",
       "    .dataframe thead th {\n",
       "        text-align: right;\n",
       "    }\n",
       "</style>\n",
       "<table border=\"1\" class=\"dataframe\">\n",
       "  <thead>\n",
       "    <tr style=\"text-align: right;\">\n",
       "      <th></th>\n",
       "      <th>gauge_id</th>\n",
       "      <th>country</th>\n",
       "      <th>area_estre</th>\n",
       "      <th>start_date</th>\n",
       "      <th>end_date</th>\n",
       "      <th>geometry</th>\n",
       "    </tr>\n",
       "    <tr>\n",
       "      <th>basin_id</th>\n",
       "      <th></th>\n",
       "      <th></th>\n",
       "      <th></th>\n",
       "      <th></th>\n",
       "      <th></th>\n",
       "      <th></th>\n",
       "    </tr>\n",
       "  </thead>\n",
       "  <tbody>\n",
       "    <tr>\n",
       "      <th>RUGR0073</th>\n",
       "      <td>6977100</td>\n",
       "      <td>RU</td>\n",
       "      <td>1366923.256</td>\n",
       "      <td>1962-01-01</td>\n",
       "      <td>2010-12-31</td>\n",
       "      <td>POLYGON Z ((45.10041 49.05541 0.00000, 45.1045...</td>\n",
       "    </tr>\n",
       "    <tr>\n",
       "      <th>ROGR0012</th>\n",
       "      <td>6742900</td>\n",
       "      <td>RO</td>\n",
       "      <td>786297.587</td>\n",
       "      <td>1931-01-01</td>\n",
       "      <td>2010-12-31</td>\n",
       "      <td>POLYGON Z ((23.58541 42.17958 0.00000, 23.5854...</td>\n",
       "    </tr>\n",
       "    <tr>\n",
       "      <th>ROGR0011</th>\n",
       "      <td>6742800</td>\n",
       "      <td>RO</td>\n",
       "      <td>689465.307</td>\n",
       "      <td>1931-01-01</td>\n",
       "      <td>2010-12-31</td>\n",
       "      <td>POLYGON Z ((27.42791 44.34958 0.00000, 27.4245...</td>\n",
       "    </tr>\n",
       "    <tr>\n",
       "      <th>ROGR0006</th>\n",
       "      <td>6742500</td>\n",
       "      <td>RO</td>\n",
       "      <td>643182.415</td>\n",
       "      <td>1931-01-01</td>\n",
       "      <td>2010-12-31</td>\n",
       "      <td>POLYGON Z ((25.30625 43.49541 0.00000, 25.3079...</td>\n",
       "    </tr>\n",
       "    <tr>\n",
       "      <th>ROGR0001</th>\n",
       "      <td>6742200</td>\n",
       "      <td>RO</td>\n",
       "      <td>568599.188</td>\n",
       "      <td>1920-01-01</td>\n",
       "      <td>1990-12-31</td>\n",
       "      <td>POLYGON Z ((22.19375 44.29291 0.00000, 22.1937...</td>\n",
       "    </tr>\n",
       "    <tr>\n",
       "      <th>...</th>\n",
       "      <td>...</td>\n",
       "      <td>...</td>\n",
       "      <td>...</td>\n",
       "      <td>...</td>\n",
       "      <td>...</td>\n",
       "      <td>...</td>\n",
       "    </tr>\n",
       "    <tr>\n",
       "      <th>GB000595</th>\n",
       "      <td>76011</td>\n",
       "      <td>GB</td>\n",
       "      <td>1.631</td>\n",
       "      <td>1967-01-01</td>\n",
       "      <td>2021-09-30</td>\n",
       "      <td>POLYGON Z ((-2.48179 55.09300 0.00000, -2.4829...</td>\n",
       "    </tr>\n",
       "    <tr>\n",
       "      <th>CH000080</th>\n",
       "      <td>2252</td>\n",
       "      <td>CH</td>\n",
       "      <td>1.377</td>\n",
       "      <td>1981-01-01</td>\n",
       "      <td>2019-07-01</td>\n",
       "      <td>POLYGON Z ((7.27075 46.70062 0.00000, 7.27088 ...</td>\n",
       "    </tr>\n",
       "    <tr>\n",
       "      <th>CH000069</th>\n",
       "      <td>2206</td>\n",
       "      <td>CH</td>\n",
       "      <td>1.067</td>\n",
       "      <td>1981-01-01</td>\n",
       "      <td>2020-12-31</td>\n",
       "      <td>POLYGON Z ((9.08964 46.18375 0.00000, 9.09043 ...</td>\n",
       "    </tr>\n",
       "    <tr>\n",
       "      <th>CH000090</th>\n",
       "      <td>2283</td>\n",
       "      <td>CH</td>\n",
       "      <td>0.606</td>\n",
       "      <td>1981-01-01</td>\n",
       "      <td>2020-12-31</td>\n",
       "      <td>POLYGON Z ((7.89467 47.02214 0.00000, 7.89545 ...</td>\n",
       "    </tr>\n",
       "    <tr>\n",
       "      <th>CH000089</th>\n",
       "      <td>2282</td>\n",
       "      <td>CH</td>\n",
       "      <td>0.564</td>\n",
       "      <td>1981-01-01</td>\n",
       "      <td>2020-12-31</td>\n",
       "      <td>POLYGON Z ((7.85572 47.02013 0.00000, 7.85571 ...</td>\n",
       "    </tr>\n",
       "  </tbody>\n",
       "</table>\n",
       "<p>8307 rows × 6 columns</p>\n",
       "</div>"
      ],
      "text/plain": [
       "         gauge_id country   area_estre  start_date    end_date  \\\n",
       "basin_id                                                         \n",
       "RUGR0073  6977100      RU  1366923.256  1962-01-01  2010-12-31   \n",
       "ROGR0012  6742900      RO   786297.587  1931-01-01  2010-12-31   \n",
       "ROGR0011  6742800      RO   689465.307  1931-01-01  2010-12-31   \n",
       "ROGR0006  6742500      RO   643182.415  1931-01-01  2010-12-31   \n",
       "ROGR0001  6742200      RO   568599.188  1920-01-01  1990-12-31   \n",
       "...           ...     ...          ...         ...         ...   \n",
       "GB000595    76011      GB        1.631  1967-01-01  2021-09-30   \n",
       "CH000080     2252      CH        1.377  1981-01-01  2019-07-01   \n",
       "CH000069     2206      CH        1.067  1981-01-01  2020-12-31   \n",
       "CH000090     2283      CH        0.606  1981-01-01  2020-12-31   \n",
       "CH000089     2282      CH        0.564  1981-01-01  2020-12-31   \n",
       "\n",
       "                                                   geometry  \n",
       "basin_id                                                     \n",
       "RUGR0073  POLYGON Z ((45.10041 49.05541 0.00000, 45.1045...  \n",
       "ROGR0012  POLYGON Z ((23.58541 42.17958 0.00000, 23.5854...  \n",
       "ROGR0011  POLYGON Z ((27.42791 44.34958 0.00000, 27.4245...  \n",
       "ROGR0006  POLYGON Z ((25.30625 43.49541 0.00000, 25.3079...  \n",
       "ROGR0001  POLYGON Z ((22.19375 44.29291 0.00000, 22.1937...  \n",
       "...                                                     ...  \n",
       "GB000595  POLYGON Z ((-2.48179 55.09300 0.00000, -2.4829...  \n",
       "CH000080  POLYGON Z ((7.27075 46.70062 0.00000, 7.27088 ...  \n",
       "CH000069  POLYGON Z ((9.08964 46.18375 0.00000, 9.09043 ...  \n",
       "CH000090  POLYGON Z ((7.89467 47.02214 0.00000, 7.89545 ...  \n",
       "CH000089  POLYGON Z ((7.85572 47.02013 0.00000, 7.85571 ...  \n",
       "\n",
       "[8307 rows x 6 columns]"
      ]
     },
     "execution_count": 19,
     "metadata": {},
     "output_type": "execute_result"
    }
   ],
   "source": [
    "shp_gau_sel.drop(columns=['gauge_prov', 'area_offic', 'area_flag', 'area_rel',\n",
    "                          'num_years', 'num_months', 'num_days', 'num_contin','num_days_g', 'num_days_r', 'num_days_n', 'num_days_s', 'gauge_flag','duplicated', 'watershed_'], inplace=True)\n",
    "shp_cat_sel.drop(columns=['area_offic','area_flag', 'area_rel','gauge_flag', 'upstream', 'group'], inplace=True)\n",
    "shp_cat_sel"
   ]
  },
  {
   "cell_type": "markdown",
   "id": "b4a9e5c5",
   "metadata": {},
   "source": [
    "## Check catchment size"
   ]
  },
  {
   "cell_type": "code",
   "execution_count": 20,
   "id": "38a056a5-c7f0-48c2-961a-4bb865fc5751",
   "metadata": {
    "tags": []
   },
   "outputs": [
    {
     "name": "stdout",
     "output_type": "stream",
     "text": [
      "Mean catchment area: 4066.76\n",
      "Maximum catchment area: 1366923.26\n",
      "Minimum catchment area: 0.56\n"
     ]
    },
    {
     "data": {
      "image/png": "[encoded data removed]",
      "text/plain": [
       "<Figure size 640x480 with 1 Axes>"
      ]
     },
     "metadata": {},
     "output_type": "display_data"
    }
   ],
   "source": [
    "print(f\"Mean catchment area: {shp_cat_sel['area_estre'].mean():.2f}\")\n",
    "print(f\"Maximum catchment area: {shp_cat_sel['area_estre'].max():.2f}\")\n",
    "print(f\"Minimum catchment area: {shp_cat_sel['area_estre'].min():.2f}\")\n",
    "\n",
    "plt.hist(shp_cat_sel['area_estre'], bins=500)\n",
    "plt.xlim(0.5,50000)\n",
    "plt.xlabel('area [$km^2$]')\n",
    "plt.ylabel('frequency [-]')\n",
    "plt.show()"
   ]
  },
  {
   "cell_type": "markdown",
   "id": "2d6f3d34",
   "metadata": {},
   "source": [
    "## Export filtered data to a dataframe which will serve to store all the remaining results into as well"
   ]
  },
  {
   "cell_type": "code",
   "execution_count": 21,
   "id": "170a7cb6",
   "metadata": {},
   "outputs": [],
   "source": [
    "shp_gau_sel['wkt_geometry'] = shp_gau_sel['geometry'].apply(lambda geom: geom.wkt)\n",
    "shp_gau_sel.to_csv(fp_data_processed/\"01_selection/gauges_metadata.csv\", index=True)\n",
    "\n",
    "shp_cat_sel['wkt_geometry'] = shp_cat_sel['geometry'].apply(lambda geom: geom.wkt)\n",
    "shp_cat_sel.to_csv(fp_data_processed/\"01_selection/catchment_metadata.csv\", index=True)"
   ]
  }
 ],
 "metadata": {
  "kernelspec": {
   "display_name": "Python 3 (ipykernel)",
   "language": "python",
   "name": "python3"
  },
  "language_info": {
   "codemirror_mode": {
    "name": "ipython",
    "version": 3
   },
   "file_extension": ".py",
   "mimetype": "text/x-python",
   "name": "python",
   "nbconvert_exporter": "python",
   "pygments_lexer": "ipython3",
   "version": "3.11.5"
  }
 },
 "nbformat": 4,
 "nbformat_minor": 5
}
